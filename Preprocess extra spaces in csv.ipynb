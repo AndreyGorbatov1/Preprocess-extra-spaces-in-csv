{
 "cells": [
  {
   "cell_type": "code",
   "execution_count": 12,
   "metadata": {},
   "outputs": [],
   "source": [
    "import pandas as pd\n",
    "import numpy as np"
   ]
  },
  {
   "cell_type": "code",
   "execution_count": 13,
   "metadata": {},
   "outputs": [],
   "source": [
    "def df_strip(df):\n",
    "  df = df.copy()\n",
    "  for c in df.columns:\n",
    "    if df[c].dtype == np.object:\n",
    "      df[c] = pd.core.strings.str_strip(df[c])\n",
    "    df = df.rename(columns={c:c.strip()})\n",
    "  return df"
   ]
  },
  {
   "cell_type": "code",
   "execution_count": 5,
   "metadata": {},
   "outputs": [],
   "source": [
    "df_old = pd.read_csv('d.csv')\n",
    "df_new = pd.read_csv('d.csv', skipinitialspace=True)"
   ]
  },
  {
   "cell_type": "code",
   "execution_count": 9,
   "metadata": {},
   "outputs": [
    {
     "data": {
      "text/plain": [
       "0        000012768d     \n",
       "1             000036f903\n",
       "2             00010925a5\n",
       "3             0001f552b0\n",
       "4             00020e7b18\n",
       "5             000220a0a7\n",
       "6          00022fd34f   \n",
       "7             0002ce2217\n",
       "8             00031cbbe6\n",
       "9         00035a21d9    \n",
       "10            00038f9200\n",
       "11            0004231e2a\n",
       "Name: client_id, dtype: object"
      ]
     },
     "execution_count": 9,
     "metadata": {},
     "output_type": "execute_result"
    }
   ],
   "source": [
    "df_old[\"client_id\"]"
   ]
  },
  {
   "cell_type": "code",
   "execution_count": 8,
   "metadata": {},
   "outputs": [
    {
     "data": {
      "text/plain": [
       "0     000012768d     \n",
       "1          000036f903\n",
       "2          00010925a5\n",
       "3          0001f552b0\n",
       "4          00020e7b18\n",
       "5          000220a0a7\n",
       "6       00022fd34f   \n",
       "7          0002ce2217\n",
       "8          00031cbbe6\n",
       "9      00035a21d9    \n",
       "10         00038f9200\n",
       "11         0004231e2a\n",
       "Name: client_id, dtype: object"
      ]
     },
     "execution_count": 8,
     "metadata": {},
     "output_type": "execute_result"
    }
   ],
   "source": [
    "df_new[\"client_id\"]"
   ]
  },
  {
   "cell_type": "code",
   "execution_count": 15,
   "metadata": {},
   "outputs": [
    {
     "data": {
      "text/plain": [
       "0     000012768d\n",
       "1     000036f903\n",
       "2     00010925a5\n",
       "3     0001f552b0\n",
       "4     00020e7b18\n",
       "5     000220a0a7\n",
       "6     00022fd34f\n",
       "7     0002ce2217\n",
       "8     00031cbbe6\n",
       "9     00035a21d9\n",
       "10    00038f9200\n",
       "11    0004231e2a\n",
       "Name: client_id, dtype: object"
      ]
     },
     "execution_count": 15,
     "metadata": {},
     "output_type": "execute_result"
    }
   ],
   "source": [
    "df_str = df_strip(df_new)\n",
    "df_str[\"client_id\"]"
   ]
  },
  {
   "cell_type": "code",
   "execution_count": null,
   "metadata": {},
   "outputs": [],
   "source": []
  }
 ],
 "metadata": {
  "kernelspec": {
   "display_name": "Python 3",
   "language": "python",
   "name": "python3"
  },
  "language_info": {
   "codemirror_mode": {
    "name": "ipython",
    "version": 3
   },
   "file_extension": ".py",
   "mimetype": "text/x-python",
   "name": "python",
   "nbconvert_exporter": "python",
   "pygments_lexer": "ipython3",
   "version": "3.7.3"
  }
 },
 "nbformat": 4,
 "nbformat_minor": 2
}
